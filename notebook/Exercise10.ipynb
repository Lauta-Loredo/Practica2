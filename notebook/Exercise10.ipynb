{
 "cells": [
  {
   "cell_type": "code",
   "execution_count": 4,
   "id": "12df0dd2-b777-41aa-9d55-38ee259429e7",
   "metadata": {},
   "outputs": [],
   "source": [
    "import sys\n",
    "import os\n",
    "os.chdir('/home/lautaro/Documentos/Proyectos/Practica 2')  \n",
    "sys.path.append(os.path.abspath(os.path.join(os.getcwd(), \"..\", \"src\")))\n"
   ]
  },
  {
   "cell_type": "code",
   "execution_count": null,
   "id": "7f85bf7c",
   "metadata": {},
   "outputs": [
    {
     "name": "stdout",
     "output_type": "stream",
     "text": [
      "Ronda 1\n",
      " Shadow: Kills 2 / Assists 1 / Deaths 1 / MVP 1/ Score 6\n",
      " Viper: Kills 1 / Assists 2 / Deaths 1 / MVP 0/ Score 4\n",
      " Reaper: Kills 1 / Assists 1 / Deaths 0 / MVP 0/ Score 4\n",
      " Blaze: Kills 1 / Assists 0 / Deaths 0 / MVP 0/ Score 3\n",
      " Frost: Kills 0 / Assists 1 / Deaths 0 / MVP 0/ Score 1\n",
      "\n",
      " El MVP de la ronda fue : Shadow\n",
      "------------------------------------------------------------\n",
      "Ronda 2\n",
      " Shadow: Kills 2 / Assists 3 / Deaths 1 / MVP 1/ Score 8\n",
      " Blaze: Kills 3 / Assists 0 / Deaths 1 / MVP 0/ Score 8\n",
      " Viper: Kills 2 / Assists 3 / Deaths 1 / MVP 0/ Score 8\n",
      " Frost: Kills 2 / Assists 2 / Deaths 1 / MVP 1/ Score 7\n",
      " Reaper: Kills 1 / Assists 2 / Deaths 0 / MVP 0/ Score 5\n",
      "\n",
      " El MVP de la ronda fue : Frost\n",
      "------------------------------------------------------------\n",
      "Ronda 3\n",
      " Shadow: Kills 4 / Assists 4 / Deaths 2 / MVP 2/ Score 14\n",
      " Viper: Kills 3 / Assists 5 / Deaths 2 / MVP 0/ Score 12\n",
      " Blaze: Kills 4 / Assists 0 / Deaths 1 / MVP 0/ Score 11\n",
      " Reaper: Kills 2 / Assists 3 / Deaths 0 / MVP 0/ Score 9\n",
      " Frost: Kills 2 / Assists 3 / Deaths 1 / MVP 1/ Score 8\n",
      "\n",
      " El MVP de la ronda fue : Shadow\n",
      "------------------------------------------------------------\n",
      "Ronda 4\n",
      " Blaze: Kills 6 / Assists 2 / Deaths 2 / MVP 1/ Score 18\n",
      " Shadow: Kills 5 / Assists 4 / Deaths 2 / MVP 2/ Score 17\n",
      " Viper: Kills 4 / Assists 6 / Deaths 3 / MVP 0/ Score 15\n",
      " Reaper: Kills 3 / Assists 4 / Deaths 0 / MVP 0/ Score 13\n",
      " Frost: Kills 2 / Assists 4 / Deaths 1 / MVP 1/ Score 9\n",
      "\n",
      " El MVP de la ronda fue : Blaze\n",
      "------------------------------------------------------------\n",
      "Ronda 5\n",
      " Shadow: Kills 7 / Assists 5 / Deaths 2 / MVP 3/ Score 24\n",
      " Blaze: Kills 7 / Assists 2 / Deaths 3 / MVP 1/ Score 20\n",
      " Viper: Kills 4 / Assists 8 / Deaths 3 / MVP 0/ Score 17\n",
      " Reaper: Kills 4 / Assists 5 / Deaths 0 / MVP 0/ Score 17\n",
      " Frost: Kills 3 / Assists 5 / Deaths 2 / MVP 1/ Score 12\n",
      "\n",
      " El MVP de la ronda fue : Shadow\n",
      "------------------------------------------------------------\n",
      "Ronda Final\n",
      " Shadow: Kills 8 / Assists 7 / Deaths 3 / MVP 3/ Score 28\n",
      " Viper: Kills 6 / Assists 8 / Deaths 4 / MVP 1/ Score 22\n",
      " Blaze: Kills 7 / Assists 3 / Deaths 3 / MVP 1/ Score 21\n",
      " Reaper: Kills 5 / Assists 6 / Deaths 1 / MVP 0/ Score 20\n",
      " Frost: Kills 4 / Assists 6 / Deaths 2 / MVP 1/ Score 16\n",
      "\n",
      " El MVP de la ronda fue : Viper\n",
      "------------------------------------------------------------\n"
     ]
    }
   ],
   "source": [
    "import src.Dic_rounds_Exer10 as d\n",
    "from src.operations_Exer10 import *\n",
    "final_rounds = {}\n",
    "for num_round, data_round in enumerate(d.rounds, start=1):\n",
    "    for player,stat in data_round.items():\n",
    "        data_round[player]['score'] = calculator_score(stat)\n",
    "        if player not in final_rounds:\n",
    "            final_rounds[player]= {'kills': 0, 'assists':0, 'deaths':0, 'MVP':0, 'score': 0}\n",
    "        final_rounds = accumulate_rounds(final_rounds, player, stat)\n",
    "    best_player = mvp_player(player, data_round)\n",
    "    final_rounds[best_player]['MVP'] += 1\n",
    "    if num_round == 6 :\n",
    "        print('Ronda Final')\n",
    "    else:\n",
    "        print(f'Ronda {num_round}')\n",
    "    rounds_played(final_rounds, best_player)"
   ]
  }
 ],
 "metadata": {
  "kernelspec": {
   "display_name": "venv",
   "language": "python",
   "name": "python3"
  },
  "language_info": {
   "codemirror_mode": {
    "name": "ipython",
    "version": 3
   },
   "file_extension": ".py",
   "mimetype": "text/x-python",
   "name": "python",
   "nbconvert_exporter": "python",
   "pygments_lexer": "ipython3",
   "version": "3.12.9"
  }
 },
 "nbformat": 4,
 "nbformat_minor": 5
}
